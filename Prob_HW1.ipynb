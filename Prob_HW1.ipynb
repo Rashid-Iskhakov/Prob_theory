{
 "cells": [
  {
   "cell_type": "markdown",
   "metadata": {},
   "source": [
    "#### 1. Из колоды в 52 карты извлекаются случайным образом 4 карты. Найти вероятность того, что все карты – крести. Найти вероятность, что среди этих карт окажется хотя бы один туз."
   ]
  },
  {
   "cell_type": "markdown",
   "metadata": {},
   "source": [
    "1) Найти вероятность того, что все карты – крести"
   ]
  },
  {
   "cell_type": "markdown",
   "metadata": {},
   "source": [
    "вероятность вытащить крести на 1, 2, 3, 4 ходе: $$\\frac{13}{52} ; \\frac{12}{51}; \\frac{11}{50}; \\frac{10}{49}$$"
   ]
  },
  {
   "cell_type": "markdown",
   "metadata": {},
   "source": [
    "вероятность, что все 4 карты крести = $$\\frac{13}{52} \\cdot \\frac{12}{51} \\cdot \\frac{11}{50} \\cdot \\frac{10}{49} = \\frac{17160}{6497400} = \\frac{11}{4165} = 0.00264$$"
   ]
  },
  {
   "cell_type": "markdown",
   "metadata": {},
   "source": [
    "либо: $$\\frac{C_{13}^4}{C_{52}^4} = \\frac{13!}{9!4!} \\cdot \\frac{48!4!}{52!} = $$"
   ]
  },
  {
   "cell_type": "markdown",
   "metadata": {},
   "source": [
    "$$\\frac{10 \\cdot 11 \\cdot 12 \\cdot 13}{49 \\cdot 50 \\cdot 51 \\cdot 52} = 0.00264$$"
   ]
  },
  {
   "cell_type": "markdown",
   "metadata": {},
   "source": [
    "2) Найти вероятность, что среди этих карт окажется хотя бы один туз"
   ]
  },
  {
   "cell_type": "markdown",
   "metadata": {},
   "source": [
    "Всего различных комбинаций из 4 карт: $$C_{52}^4 = 270725$$"
   ]
  },
  {
   "cell_type": "markdown",
   "metadata": {},
   "source": [
    "вероятность, что будет 1 туз: $$\\frac{C_4^1 \\cdot C_{48}^3}{C_{52}^4} = \\frac{4 \\cdot 17296}{270725} = \\frac{69184}{270725}$$"
   ]
  },
  {
   "cell_type": "markdown",
   "metadata": {},
   "source": [
    "2 туза: $$\\frac{C_4^2 \\cdot C_{48}^2}{C_{52}^4} = \\frac{6 \\cdot 1128}{270725} = \\frac{6768}{270725}$$"
   ]
  },
  {
   "cell_type": "markdown",
   "metadata": {},
   "source": [
    "3 туза: $$\\frac{C_4^3 \\cdot C_{48}^1}{C_{52}^4} = \\frac{4 \\cdot 48}{270725} = \\frac{192}{270725}$$"
   ]
  },
  {
   "cell_type": "markdown",
   "metadata": {},
   "source": [
    "1 туз: $$\\frac{1}{270725}$$"
   ]
  },
  {
   "cell_type": "markdown",
   "metadata": {},
   "source": [
    "P(A) = $$\\frac{69184}{270725} + \\frac{6768}{270725} + \\frac{192}{270725} + \\frac{1}{270725} = \\frac{76145}{270725} = \\frac{15229}{54145} = 0.2813$$"
   ]
  },
  {
   "cell_type": "markdown",
   "metadata": {},
   "source": [
    "#### 2. На входной двери подъезда установлен кодовый замок, содержащий десять кнопок с цифрами от 0 до 9. Код содержит три цифры, которые нужно нажать одновременно. Какова вероятность того, что человек, не знающий код, откроет дверь с первой попытки?"
   ]
  },
  {
   "cell_type": "markdown",
   "metadata": {},
   "source": [
    "P(A) = $$\\frac{1}{C_{10}^3} = \\frac{1}{120}$$ "
   ]
  },
  {
   "cell_type": "markdown",
   "metadata": {},
   "source": [
    "#### 3. В ящике имеется 15 деталей, из которых 9 окрашены. Рабочий случайным образом извлекает 3 детали. Какова вероятность того, что все извлеченные детали окрашены?"
   ]
  },
  {
   "cell_type": "markdown",
   "metadata": {},
   "source": [
    "Количество исходов, при которых все 3 детали окрашены: $$C_9^3 = 84$$"
   ]
  },
  {
   "cell_type": "markdown",
   "metadata": {},
   "source": [
    "Общее количество исходов: $$С_{15}^3 = 455$$"
   ]
  },
  {
   "cell_type": "markdown",
   "metadata": {},
   "source": [
    "P(A) = $$\\frac{84}{455} = 0.1846$$"
   ]
  },
  {
   "cell_type": "markdown",
   "metadata": {},
   "source": [
    "#### 4. В лотерее 100 билетов. Из них 2 выигрышных. Какова вероятность того, что 2 приобретенных билета окажутся выигрышными?"
   ]
  },
  {
   "cell_type": "markdown",
   "metadata": {},
   "source": [
    "P(A) = $$\\frac{2}{100} \\cdot \\frac{1}{99} = \\frac{1}{4950} = 0.0002$$ "
   ]
  },
  {
   "cell_type": "markdown",
   "metadata": {},
   "source": [
    "либо P(A): $$\\frac{C_2^2}{C_{100}^2} = \\frac{1}{\\frac{99 \\cdot 100}{2}} = \\frac{1}{4950} = 0.0002$$"
   ]
  },
  {
   "cell_type": "code",
   "execution_count": null,
   "metadata": {},
   "outputs": [],
   "source": []
  }
 ],
 "metadata": {
  "kernelspec": {
   "display_name": "Python 3",
   "language": "python",
   "name": "python3"
  },
  "language_info": {
   "codemirror_mode": {
    "name": "ipython",
    "version": 3
   },
   "file_extension": ".py",
   "mimetype": "text/x-python",
   "name": "python",
   "nbconvert_exporter": "python",
   "pygments_lexer": "ipython3",
   "version": "3.7.1"
  }
 },
 "nbformat": 4,
 "nbformat_minor": 2
}
